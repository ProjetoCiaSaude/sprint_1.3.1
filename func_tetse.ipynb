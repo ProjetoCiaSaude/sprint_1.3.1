{
 "cells": [
  {
   "cell_type": "code",
   "execution_count": 9,
   "metadata": {},
   "outputs": [],
   "source": [
    "from bd import bd_pacientes"
   ]
  },
  {
   "cell_type": "code",
   "execution_count": 10,
   "metadata": {},
   "outputs": [],
   "source": [
    "paciente_dados = {\n",
    "    \"nome\": \"Gabriel da Costa Pelai\",\n",
    "    \"endereco\": \"Estrada das agulhas negras, 800\",\n",
    "    \"rg\": '29.539.880-4',\n",
    "    \"cpf\": '122.474.527-28',\n",
    "    \"telefone\": \"(21) 98008-5229\",\n",
    "    \"email\": \"gpelai@gmail.com\",\n",
    "    \"data_nascimento\": \"21-05-1998\",\n",
    "    \"responsavel\": \"\",\n",
    "    \"medico_solicitante\": \"Gallagher Harrell\",\n",
    "    \"crm\": \"5421375\",\n",
    "    \"ocupacao\": \"Odontologia\",\n",
    "    \"cid\": \"Remoção de siso\",\n",
    "    \"pagamento\": \"Plano\",\n",
    "    \"empresa\": \"Unimed\",\n",
    "    \"numero_carteirinha\": \"125531\",\n",
    "    \"plano\": \"Unimed silver\"\n",
    "  }\n",
    "\n",
    "cpf = paciente_dados['cpf']\n",
    "bd_pacientes = bd_pacientes\n"
   ]
  },
  {
   "cell_type": "code",
   "execution_count": 11,
   "metadata": {},
   "outputs": [],
   "source": [
    "def duplicidade_cpf(cpf):\n",
    "    '''\n",
    "    Procura o CPF no banco de dados mongodb e retorna o valor boleano para o resultado.\n",
    "    '''\n",
    "\n",
    "\n",
    "    user = bd_pacientes.find_one({'cpf': cpf})\n",
    "\n",
    "    if user:\n",
    "        cpf_status = True\n",
    "    else:\n",
    "        cpf_status = False\n",
    "\n",
    "    # return cpf_status\n",
    "    print(cpf_status)"
   ]
  },
  {
   "cell_type": "code",
   "execution_count": 12,
   "metadata": {},
   "outputs": [
    {
     "name": "stdout",
     "output_type": "stream",
     "text": [
      "True\n"
     ]
    }
   ],
   "source": [
    "duplicidade_cpf(cpf,bd_pacientes, paciente_dados)"
   ]
  }
 ],
 "metadata": {
  "kernelspec": {
   "display_name": "env",
   "language": "python",
   "name": "python3"
  },
  "language_info": {
   "codemirror_mode": {
    "name": "ipython",
    "version": 3
   },
   "file_extension": ".py",
   "mimetype": "text/x-python",
   "name": "python",
   "nbconvert_exporter": "python",
   "pygments_lexer": "ipython3",
   "version": "3.11.1"
  },
  "orig_nbformat": 4
 },
 "nbformat": 4,
 "nbformat_minor": 2
}
